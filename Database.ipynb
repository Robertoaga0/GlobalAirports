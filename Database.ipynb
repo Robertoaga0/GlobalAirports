{
 "cells": [
  {
   "cell_type": "code",
   "execution_count": 1,
   "id": "25af24d8",
   "metadata": {},
   "outputs": [
    {
     "name": "stdout",
     "output_type": "stream",
     "text": [
      "Requirement already satisfied: psycopg2-binary in c:\\users\\rober\\desktop\\proyects\\global airports\\.venv\\lib\\site-packages (2.9.10)\n",
      "Requirement already satisfied: python-dotenv in c:\\users\\rober\\desktop\\proyects\\global airports\\.venv\\lib\\site-packages (1.1.1)\n",
      "Requirement already satisfied: python-decouple in c:\\users\\rober\\desktop\\proyects\\global airports\\.venv\\lib\\site-packages (3.8)\n"
     ]
    }
   ],
   "source": [
    "!pip install psycopg2-binary\n",
    "!pip install python-dotenv\n",
    "!pip install python-decouple\n"
   ]
  },
  {
   "cell_type": "code",
   "execution_count": 4,
   "id": "49b101aa",
   "metadata": {},
   "outputs": [
    {
     "name": "stdout",
     "output_type": "stream",
     "text": [
      "Requirement already satisfied: python-dotenv in c:\\users\\rober\\desktop\\proyects\\global airports\\.venv\\lib\\site-packages (1.1.1)\n"
     ]
    }
   ],
   "source": [
    "!pip install python-dotenv"
   ]
  },
  {
   "cell_type": "code",
   "execution_count": 6,
   "id": "c8d83074",
   "metadata": {},
   "outputs": [],
   "source": [
    "from dotenv import load_dotenv\n",
    "from decouple import config\n",
    "import os "
   ]
  },
  {
   "cell_type": "code",
   "execution_count": null,
   "id": "60cb8080",
   "metadata": {},
   "outputs": [
    {
     "name": "stdout",
     "output_type": "stream",
     "text": [
      "Base de datos 'airportsdb' creada correctamente.\n"
     ]
    }
   ],
   "source": [
    "import psycopg2\n",
    "\n",
    "\n",
    "host = os.getenv(\"host\"),\n",
    "dbname = os.getenv('dbname'), \n",
    "user = os.getenv('user'),\n",
    "password = os.getenv('password'),\n",
    "port = 5432\n",
    "\n",
    "try:\n",
    "    \n",
    "    conn = psycopg2.connect(\n",
    "        host=host,\n",
    "        dbname=dbname,\n",
    "        user=user,\n",
    "        password=password,\n",
    "        port=port\n",
    "    )\n",
    "\n",
    "    \n",
    "    conn.autocommit = True\n",
    "\n",
    "    \n",
    "    cur = conn.cursor()\n",
    "    cur.execute(\"CREATE DATABASE airportsdb;\")\n",
    "    print(\"Base de datos 'airportsdb' creada correctamente.\")\n",
    "\n",
    "    \n",
    "    cur.close()\n",
    "    conn.close()\n",
    "\n",
    "except Exception as e:\n",
    "    print(\"Error al conectar o crear la base de datos:\", e)\n"
   ]
  },
  {
   "cell_type": "code",
   "execution_count": 13,
   "id": "4c1d8ac4",
   "metadata": {},
   "outputs": [
    {
     "name": "stdout",
     "output_type": "stream",
     "text": [
      "Tabla 'airports' creada correctamente.\n"
     ]
    }
   ],
   "source": [
    "import psycopg2\n",
    "\n",
    "# Parámetros de conexión\n",
    "host = 'airportsdb.cb4mw8sey395.eu-north-1.rds.amazonaws.com'\n",
    "dbname = 'airportsdb'\n",
    "user = 'airportsdb'\n",
    "password = 'MySQL123'\n",
    "port = 5432\n",
    "\n",
    "try:\n",
    "    conn = psycopg2.connect(\n",
    "        host=host,\n",
    "        dbname=dbname,\n",
    "        user=user,\n",
    "        password=password,\n",
    "        port=port\n",
    "    )\n",
    "\n",
    "    cur = conn.cursor()\n",
    "\n",
    "    create_table_query = \"\"\"\n",
    "    CREATE TABLE IF NOT EXISTS airports (\n",
    "        AirportName TEXT,\n",
    "        IATA CHAR(3),\n",
    "        ICAO CHAR(4),\n",
    "        TimeZone TEXT,\n",
    "        City_Name TEXT,\n",
    "        City_IATA CHAR(3),\n",
    "        UTC_Offset_Hours NUMERIC,\n",
    "        UTC_Offset_Seconds INTEGER,\n",
    "        Country_CodeA2 CHAR(2),\n",
    "        Country_CodeA3 CHAR(3),\n",
    "        Country_Name TEXT,\n",
    "        GeoPointLat NUMERIC,\n",
    "        GeoPointLong NUMERIC,\n",
    "        Rank INTEGER,\n",
    "        Total_passengers BIGINT,\n",
    "        Rank_change INTEGER,\n",
    "        Percent_change NUMERIC\n",
    "    );\n",
    "    \"\"\"\n",
    "\n",
    "    cur.execute(create_table_query)\n",
    "    conn.commit()\n",
    "\n",
    "    print(\"Tabla 'airports' creada correctamente.\")\n",
    "\n",
    "    cur.close()\n",
    "    conn.close()\n",
    "\n",
    "except Exception as e:\n",
    "    print(\"Error al crear la tabla:\", e)\n"
   ]
  }
 ],
 "metadata": {
  "kernelspec": {
   "display_name": ".venv",
   "language": "python",
   "name": "python3"
  },
  "language_info": {
   "codemirror_mode": {
    "name": "ipython",
    "version": 3
   },
   "file_extension": ".py",
   "mimetype": "text/x-python",
   "name": "python",
   "nbconvert_exporter": "python",
   "pygments_lexer": "ipython3",
   "version": "3.12.2"
  }
 },
 "nbformat": 4,
 "nbformat_minor": 5
}
