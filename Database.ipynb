{
 "cells": [
  {
   "cell_type": "code",
   "execution_count": 1,
   "id": "25af24d8",
   "metadata": {},
   "outputs": [
    {
     "name": "stdout",
     "output_type": "stream",
     "text": [
      "Collecting psycopg2-binary\n",
      "  Using cached psycopg2_binary-2.9.10-cp312-cp312-win_amd64.whl.metadata (5.0 kB)\n",
      "Using cached psycopg2_binary-2.9.10-cp312-cp312-win_amd64.whl (1.2 MB)\n",
      "Installing collected packages: psycopg2-binary\n",
      "Successfully installed psycopg2-binary-2.9.10\n",
      "Collecting python-dotenv\n",
      "  Using cached python_dotenv-1.1.1-py3-none-any.whl.metadata (24 kB)\n",
      "Using cached python_dotenv-1.1.1-py3-none-any.whl (20 kB)\n",
      "Installing collected packages: python-dotenv\n",
      "Successfully installed python-dotenv-1.1.1\n",
      "Collecting python-decouple\n",
      "  Using cached python_decouple-3.8-py3-none-any.whl.metadata (14 kB)\n",
      "Using cached python_decouple-3.8-py3-none-any.whl (9.9 kB)\n",
      "Installing collected packages: python-decouple\n",
      "Successfully installed python-decouple-3.8\n"
     ]
    }
   ],
   "source": [
    "!pip install psycopg2-binary\n",
    "!pip install python-dotenv\n",
    "!pip install python-decouple\n"
   ]
  },
  {
   "cell_type": "code",
   "execution_count": 4,
   "id": "c8d83074",
   "metadata": {},
   "outputs": [],
   "source": [
    "#from dotenv import load_dotenvg\n",
    "from decouple import config\n",
    "import os "
   ]
  },
  {
   "cell_type": "code",
   "execution_count": null,
   "id": "60cb8080",
   "metadata": {},
   "outputs": [
    {
     "name": "stdout",
     "output_type": "stream",
     "text": [
      "Base de datos 'airportsdb' creada correctamente.\n"
     ]
    }
   ],
   "source": [
    "import psycopg2\n",
    "\n",
    "\n",
    "host = os.getenv(\"host\"),\n",
    "dbname = os.getenv('dbname'), \n",
    "user = os.getenv('user'),\n",
    "password = os.getenv('password'),\n",
    "port = 5432\n",
    "\n",
    "try:\n",
    "    \n",
    "    conn = psycopg2.connect(\n",
    "        host=host,\n",
    "        dbname=dbname,\n",
    "        user=user,\n",
    "        password=password,\n",
    "        port=port\n",
    "    )\n",
    "\n",
    "    \n",
    "    conn.autocommit = True\n",
    "\n",
    "    \n",
    "    cur = conn.cursor()\n",
    "    cur.execute(\"CREATE DATABASE airportsdb;\")\n",
    "    print(\"Base de datos 'airportsdb' creada correctamente.\")\n",
    "\n",
    "    \n",
    "    cur.close()\n",
    "    conn.close()\n",
    "\n",
    "except Exception as e:\n",
    "    print(\"Error al conectar o crear la base de datos:\", e)\n"
   ]
  },
  {
   "cell_type": "code",
   "execution_count": 13,
   "id": "4c1d8ac4",
   "metadata": {},
   "outputs": [
    {
     "name": "stdout",
     "output_type": "stream",
     "text": [
      "Tabla 'airports' creada correctamente.\n"
     ]
    }
   ],
   "source": [
    "import psycopg2\n",
    "\n",
    "# Parámetros de conexión\n",
    "host = 'airportsdb.cb4mw8sey395.eu-north-1.rds.amazonaws.com'\n",
    "dbname = 'airportsdb'\n",
    "user = 'airportsdb'\n",
    "password = 'MySQL123'\n",
    "port = 5432\n",
    "\n",
    "try:\n",
    "    conn = psycopg2.connect(\n",
    "        host=host,\n",
    "        dbname=dbname,\n",
    "        user=user,\n",
    "        password=password,\n",
    "        port=port\n",
    "    )\n",
    "\n",
    "    cur = conn.cursor()\n",
    "\n",
    "    create_table_query = \"\"\"\n",
    "    CREATE TABLE IF NOT EXISTS airports (\n",
    "        AirportName TEXT,\n",
    "        IATA CHAR(3),\n",
    "        ICAO CHAR(4),\n",
    "        TimeZone TEXT,\n",
    "        City_Name TEXT,\n",
    "        City_IATA CHAR(3),\n",
    "        UTC_Offset_Hours NUMERIC,\n",
    "        UTC_Offset_Seconds INTEGER,\n",
    "        Country_CodeA2 CHAR(2),\n",
    "        Country_CodeA3 CHAR(3),\n",
    "        Country_Name TEXT,\n",
    "        GeoPointLat NUMERIC,\n",
    "        GeoPointLong NUMERIC,\n",
    "        Rank INTEGER,\n",
    "        Total_passengers BIGINT,\n",
    "        Rank_change INTEGER,\n",
    "        Percent_change NUMERIC\n",
    "    );\n",
    "    \"\"\"\n",
    "\n",
    "    cur.execute(create_table_query)\n",
    "    conn.commit()\n",
    "\n",
    "    print(\"Tabla 'airports' creada correctamente.\")\n",
    "\n",
    "    cur.close()\n",
    "    conn.close()\n",
    "\n",
    "except Exception as e:\n",
    "    print(\"Error al crear la tabla:\", e)\n"
   ]
  }
 ],
 "metadata": {
  "kernelspec": {
   "display_name": ".venv",
   "language": "python",
   "name": "python3"
  },
  "language_info": {
   "codemirror_mode": {
    "name": "ipython",
    "version": 3
   },
   "file_extension": ".py",
   "mimetype": "text/x-python",
   "name": "python",
   "nbconvert_exporter": "python",
   "pygments_lexer": "ipython3",
   "version": "3.12.2"
  }
 },
 "nbformat": 4,
 "nbformat_minor": 5
}
